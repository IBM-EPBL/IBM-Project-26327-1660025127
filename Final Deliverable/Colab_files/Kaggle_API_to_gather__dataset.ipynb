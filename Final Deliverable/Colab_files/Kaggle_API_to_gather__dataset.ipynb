{
  "nbformat": 4,
  "nbformat_minor": 0,
  "metadata": {
    "colab": {
      "provenance": []
    },
    "kernelspec": {
      "name": "python3",
      "display_name": "Python 3"
    },
    "language_info": {
      "name": "python"
    }
  },
  "cells": [
    {
      "cell_type": "code",
      "execution_count": null,
      "metadata": {
        "id": "SICgqHVUKfEs"
      },
      "outputs": [],
      "source": [
        "!pip install -q kaggle"
      ]
    },
    {
      "cell_type": "code",
      "source": [
        "!mkdir ~/.kaggle #creating a kaggle directory"
      ],
      "metadata": {
        "id": "41sWXm90Ky7w"
      },
      "execution_count": null,
      "outputs": []
    },
    {
      "cell_type": "code",
      "source": [
        "!cp kaggle.json ~/.kaggle/ # copying json file to folder"
      ],
      "metadata": {
        "id": "ZXmkC5rsLRGo"
      },
      "execution_count": null,
      "outputs": []
    },
    {
      "cell_type": "code",
      "source": [
        "!kaggle datasets download -d gokulkrishnant/port-traffic"
      ],
      "metadata": {
        "colab": {
          "base_uri": "https://localhost:8080/"
        },
        "id": "7-GSh0FjMG22",
        "outputId": "cd5400ad-cfca-4a0c-b296-57fe4f293881"
      },
      "execution_count": null,
      "outputs": [
        {
          "output_type": "stream",
          "name": "stdout",
          "text": [
            "Warning: Your Kaggle API key is readable by other users on this system! To fix this, you can run 'chmod 600 /root/.kaggle/kaggle.json'\n",
            "Downloading port-traffic.zip to /content\n",
            "  0% 0.00/564 [00:00<?, ?B/s]\n",
            "100% 564/564 [00:00<00:00, 327kB/s]\n"
          ]
        }
      ]
    },
    {
      "cell_type": "code",
      "source": [
        "!unzip /content/port-traffic.zip"
      ],
      "metadata": {
        "colab": {
          "base_uri": "https://localhost:8080/"
        },
        "id": "4CZjxjcAMiUG",
        "outputId": "0ee3fff0-5d2e-46b0-c821-c68a3a72f736"
      },
      "execution_count": null,
      "outputs": [
        {
          "output_type": "stream",
          "name": "stdout",
          "text": [
            "Archive:  /content/port-traffic.zip\n",
            "  inflating: port traffic data prep.csv  \n"
          ]
        }
      ]
    },
    {
      "cell_type": "code",
      "source": [],
      "metadata": {
        "id": "TxoNPLZSNCbg"
      },
      "execution_count": null,
      "outputs": []
    }
  ]
}